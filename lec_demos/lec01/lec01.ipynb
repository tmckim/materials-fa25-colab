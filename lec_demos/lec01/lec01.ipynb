{
  "cells": [
    {
      "cell_type": "markdown",
      "metadata": {
        "id": "2dRcjzkZ8rb9"
      },
      "source": [
        "<a href=\"https://colab.research.google.com/github/tmckim/materials-fa25-colab/blob/main/lec_demos/lec01/lec01.ipynb\" target=\"_parent\"><img src=\"https://colab.research.google.com/assets/colab-badge.svg\" alt=\"Open In Colab\"/></a>"
      ]
    },
    {
      "cell_type": "markdown",
      "metadata": {
        "id": "sRmCxp91P0Pt"
      },
      "source": [
        "# Allen Institute Visual Behavior 2P Dataset - Plotting Neural Data Demo\n",
        "\n",
        "### Neural data can be complex and can contain many variables within one dataset. How do we make sense of this information in a meaningful way?\n",
        "\n",
        "Today, we will plot the calcium signal from neurons recorded while mice performed a visual discrimination task.\n",
        "\n",
        "\n",
        "This notebook will help us investigate data collected from the [Visual Behavior 2P](https://portal.brain-map.org/explore/circuits/visual-behavior-2p) dataset from the Allen Brain Institute.\n"
      ]
    },
    {
      "cell_type": "markdown",
      "metadata": {
        "id": "m4KPaiNeQBhE"
      },
      "source": [
        "____\n",
        "# Learning Objectives 🙋\n",
        "\n",
        "## At the end of this notebook, you'll be able to:\n",
        "* Plot calcium imaging data based on experimental conditions 💻 📈\n",
        "* Examine differences in neuronal responses to familiar and novel images 🌄 🎆\n",
        "* Understand differences in data format  💭 🧠\n",
        "* Understand how to use common Python packages for data visualization 🐍\n",
        "* Apply best practices for plotting data 📊 📓\n",
        "\n",
        "\n",
        "**<font color=\"red\" size=4> IMPORTANT: This notebook is READ-ONLY. To edit and run this notebook, follow the steps in the next section.</font>**\n",
        "______"
      ]
    },
    {
      "cell_type": "markdown",
      "metadata": {
        "id": "xU3zB5EtQlYz"
      },
      "source": [
        "# 💾 Before you start - Save this notebook!\n",
        "\n",
        "When you open a new Colab notebook from the WebCampus (like you hopefully did for this one), you cannot save changes. So it's  best to store the Colab notebook in your personal drive `\"File > Save a copy in drive...\"` **before** you do anything else.\n",
        "\n",
        "The file will open in a new tab in your web browser, and it is automatically named something like: \"**lec01.ipynb**\". You can rename this to just the title of the assignment \"**lec01.ipynb**\". Make sure you do keep an informative name (like the name of the assignment) so that you know which files to submit back to WebCampus for grading! More instructions on this are at the end of the notebook.\n",
        "\n",
        "\n",
        "**Where does the notebook get saved in Google Drive?**\n",
        "\n",
        "By default, the notebook will be copied to a folder called “Colab Notebooks” at the root (home directory) of your Google Drive. If you use this for other courses or personal code notebooks, I recommend creating a folder for this course and then moving the assignments AFTER you have completed them.<br>\n",
        "\n",
        "I also recommend you give the folder where you save your notebooks^ a different name than the folder we create below that will store the notebook resources you need each time you work through a course notebook. This includes any data files you will need, links to the images that appear in the notebook, and the files associated with the autograder for answer checking.<br>\n",
        "You should select a name other than '**NS499-DataSci-course-materials**'. <br>\n",
        "This folder gets overwritten with each assignment you work on in the course, so you should **NOT** store your notebooks in this folder that we use for course materials! <br><br>For example, you could create a folder called 'NS499-**notebooks**' or something along those lines. <br>\n",
        "\n",
        "_______"
      ]
    },
    {
      "cell_type": "markdown",
      "source": [
        "# Quick Intro to Jupyter (Colab) Notebooks 📓\n",
        "\n",
        "This section will introduce you using Jupyter Notebooks 📓 💻, a handy coding environment for learning as well as sharing code with others.\n",
        "\n",
        "### At the end of this notebook, you'll be able to:\n",
        "* Recognize the main features of Jupyter Notebooks\n",
        "* Use Jupyter Notebooks to run Python3 🐍 Code"
      ],
      "metadata": {
        "id": "kOUzt1SK9_DJ"
      }
    },
    {
      "cell_type": "markdown",
      "source": [
        "### About Jupyter Notebooks\n",
        "\n",
        "\n",
        "Jupyter notebooks are a way to combine executable code, code outputs, and text into one connected file. They run in a web browser. 📶\n",
        "\n",
        "The <b>'kernel'</b> is the thing that executes your code. It is what connects the notebook (as you see it) with the part of your computer that runs code.\n",
        "\n",
        "### Types of Cells\n",
        "Jupyter Notebooks have two types of cells, a <b>Markdown</b> (like this one) and <b>Code</b>. Most of the time you won't need to run the Markdown cells, just read through them. However, when we get to a code cell, you need to tell Jupyter to run the lines of code that it contains.\n",
        "\n",
        "Code cells will be read by the Python interpreter. In other words, the Python kernel will run whatever it recognizes as code within the cell."
      ],
      "metadata": {
        "id": "oOVE2rzT-CGZ"
      }
    },
    {
      "cell_type": "code",
      "source": [
        "# In Python, anything with a \"#\" in front of it is code annotation,\n",
        "# and is not read by the computer.\n",
        "# You can run a cell (this box) by pressing shift-enter or shift-return.\n",
        "# Click in this cell and then press shift and enter simultaneously.\n",
        "# This print function below allows us to generate a message.\n",
        "print('Nice work!')"
      ],
      "metadata": {
        "id": "lUmnLKSQ-IIX"
      },
      "execution_count": null,
      "outputs": []
    },
    {
      "cell_type": "markdown",
      "metadata": {
        "execution": {},
        "id": "J66B1v7tPOGA"
      },
      "source": [
        "# Allen Institute Visual Behavior 2P dataset overview\n",
        "### This dataset consists of neural activity measured with 2-photon calcium imaging in the visual cortex of mice performing an image change detection task. In this task, mice learn to report changes in stimulus identity by licking a spout to earn a water reward.\n",
        "\n",
        "\n",
        "# Dataset Notes\n",
        "\n",
        "The entire dataset includes neural and behavioral measurements from:\n",
        "\n",
        "*   107 mice\n",
        "*   4787 behavior training sessions\n",
        "*   704 *in vivo* imaging sessions\n",
        "*   50,482 cortical cells\n",
        "\n",
        "The data are openly accessible, and include information about all recorded timeseries, behavioral events, and experimental data in a standard data format: [Neurodata Without Borders (NWB)](https://www.nwb.org/nwb-neurophysiology/).\n",
        "\n"
      ]
    },
    {
      "cell_type": "markdown",
      "metadata": {
        "execution": {},
        "id": "n4NTwDWoPOGD"
      },
      "source": [
        "\n",
        "![](https://github.com/tmckim/materials-fa24-colab/blob/main/lec_demos/lec01/task_image.png?raw=1)"
      ]
    },
    {
      "cell_type": "markdown",
      "metadata": {
        "execution": {},
        "id": "-6tOr7JiPOGH"
      },
      "source": [
        "##### In some sessions, the mice perform the task with familiar images they have seen many times during training. In other sessions, mice perform the task with novel images.\n",
        "##### During 2-photon imaging sessions, 5% of stimulus presentations are randomly omitted, allowing us to examine the effect of unexpected events on neural activity.\n",
        "##### The same population of cells is imaged over multiple days with varying sensory and behavioral conditions.\n"
      ]
    },
    {
      "cell_type": "markdown",
      "metadata": {
        "id": "qIKeKpgcvfLr"
      },
      "source": [
        "\n",
        "![](https://github.com/tmckim/materials-fa24-colab/blob/main/lec_demos/lec01/experiment_overview.png?raw=1)"
      ]
    },
    {
      "cell_type": "markdown",
      "metadata": {
        "execution": {},
        "id": "ueF6hDtUPOGQ"
      },
      "source": [
        "##### Multiple cortical areas and depths were measured concurently in each session, at a sample rate of 11Hz.\n",
        "##### In the full dataset, data was collected from excitatory and inhibitory neural populations.\n"
      ]
    },
    {
      "cell_type": "markdown",
      "metadata": {
        "id": "pI2mHvjBvmgE"
      },
      "source": [
        "\n",
        "![](https://github.com/tmckim/materials-fa24-colab/blob/main/lec_demos/lec01/imaging_overview.png?raw=1)"
      ]
    },
    {
      "cell_type": "markdown",
      "metadata": {
        "execution": {},
        "id": "Tqd381I3POGo"
      },
      "source": [
        "#### This example will focus on the activity of the two inhibitory types - VIP and SST neurons. <br>\n",
        "#### Check out a recent paper published in Neuron on this dataset: [Behavioral strategy shapes activation of the Vip-Sst disinhibitory circuit in visual cortex](https://www.sciencedirect.com/science/article/pii/S0896627324000928)"
      ]
    },
    {
      "cell_type": "markdown",
      "metadata": {
        "execution": {},
        "id": "Dk_3p-OcPOGo"
      },
      "source": [
        "# Setup and import files 🧰 🛠"
      ]
    },
    {
      "cell_type": "markdown",
      "metadata": {
        "id": "h6TbSJ3wUeeT"
      },
      "source": [
        "## Step 1: Import Data and Files Needed"
      ]
    },
    {
      "cell_type": "markdown",
      "source": [
        " <br> If you restart colab, you must rerun these steps!"
      ],
      "metadata": {
        "id": "3K6pVtLnGN1Y"
      }
    },
    {
      "cell_type": "code",
      "source": [
        "# Step 1: Setup and add files needed to access gdrive\n",
        "from google.colab import drive\n",
        "drive.mount('/content/gdrive', force_remount=True)"
      ],
      "metadata": {
        "id": "SrLPYdEvGSSG"
      },
      "execution_count": null,
      "outputs": []
    },
    {
      "cell_type": "code",
      "source": [
        "# Step 2: Make a folder to store the files\n",
        "import os\n",
        "\n",
        "course_dir = '/content/gdrive/MyDrive/NS499-DataSci-course-materials/'  # Don't change this name! This is where everything gets stored in gdrive, consistent for the semester\n",
        "\n",
        "# Check if directory exists; create it if it doesn't\n",
        "if not os.path.exists(course_dir):\n",
        "    os.makedirs(course_dir, exist_ok=True)\n",
        "    print(f\"Created directory: {course_dir}\")\n",
        "else:\n",
        "    print(f\"Directory already exists: {course_dir}\")\n",
        "\n",
        "# Change working directory\n",
        "os.chdir(course_dir)\n",
        "print(f\"Current working directory: {os.getcwd()}\")\n"
      ],
      "metadata": {
        "id": "yqO6e373GSx9"
      },
      "execution_count": null,
      "outputs": []
    },
    {
      "cell_type": "code",
      "source": [
        "# Step 3: Remove files if any were there - we will replace with all the old + new ones for this assignment\n",
        "# In case lab or hw notebooks have been attempted before lec\n",
        "!rm -r materials-fa25-colab"
      ],
      "metadata": {
        "id": "ykHC9-MPo_s5"
      },
      "execution_count": null,
      "outputs": []
    },
    {
      "cell_type": "code",
      "source": [
        "# Step 4: These lines clone (copy) all the files you will need from where I store the code+data for the course (github)\n",
        "# Second part of the code copies the files to this location and folder in your own gdrive\n",
        "!git clone https://github.com/tmckim/materials-fa25-colab '/content/gdrive/My Drive/NS499-DataSci-course-materials/materials-fa25-colab/'"
      ],
      "metadata": {
        "id": "xRBsmgmHGcbO"
      },
      "execution_count": null,
      "outputs": []
    },
    {
      "cell_type": "code",
      "source": [
        "# Step 5: Change directory (cd) into the folder where the resources for this lec are stored in gdrive\n",
        "%cd /content/gdrive/MyDrive/NS499-DataSci-course-materials/materials-fa25-colab/lec_demos/lec01/"
      ],
      "metadata": {
        "id": "CvzOfhs4GfI8"
      },
      "execution_count": null,
      "outputs": []
    },
    {
      "cell_type": "markdown",
      "metadata": {
        "id": "ZNi2XorrRNbD"
      },
      "source": [
        "## Step 2: Set up coding environment\n",
        "Each time we start an analysis in Python, we must import the necessary code packages. If you're running this notebook in Colab, the cells below will install packages into your coding environment -- these are *not* installed on your computer.\n",
        "\n",
        "### Import common packages 📬\n",
        "Each time we start an analysis in Python, we must import the necessary code packages. If you're running this notebook in Colab, the cells below will install packages into your coding environment -- these are *not* installed on your computer.\n",
        "\n",
        "Just like in many computer languages, the beauty of Python is that other people have spent much time developing useful code that they have tested robustly and wish to share with others. These are called libraries or packages.  We can import popular packages into the Python/Colab environment and if the package has not already been installed on our version of Python, we can easily install the package and use it.\n",
        "\n",
        "For this Colab notebook we will be working with four packages that typically come pre-installed on most versions of Python. They are:\n",
        "\n",
        "- **numpy**: A library for working with numerical lists, called arrays\n",
        "- **pandas**: A library for working with two dimenional lists, called dataframes\n",
        "- **matplotlib**: A package for plotting, commonly used in tandem with numpy and pandas\n",
        "- **seaborn**: A package for plotting, commonly used in tandem with pandas\n",
        "\n",
        "</br><img src=\"https://miro.medium.com/max/765/1*cyXCE-JcBelTyrK-58w6_Q.png\" width=200> <img src=\"https://upload.wikimedia.org/wikipedia/commons/thumb/e/ed/Pandas_logo.svg/1200px-Pandas_logo.svg.png\" width=200> </br><img src=\"https://matplotlib.org/stable/_static/logo_dark.svg\" width=200> <img src=\"https://seaborn.pydata.org/_images/logo-wide-lightbg.svg\" width=200> </br></br>\n",
        "We can import these libraries (or certain classes/functions from these libraries) into our local runtime using the following code. The nicknames I used (`pd`, `plt`, `np`, and `sns`) are pretty standard nicknames that most Python programmers use, though you could use anything.\n",
        "\n",
        "### Setup coding environment\n",
        "Below, we'll `import` a common selection of packages that will help us analyze and plot our data. We'll also configure the plotting in our notebook.\n",
        "\n",
        "*   This will ensure that our coding environment has [NumPy](https://numpy.org/), [Pandas](https://pandas.pydata.org/), [Matplotlib](https://matplotlib.org/), and [Seaborn](https://seaborn.pydata.org/) installed.\n",
        "\n"
      ]
    },
    {
      "cell_type": "code",
      "execution_count": null,
      "metadata": {
        "id": "lP5d3dujRZOz"
      },
      "outputs": [],
      "source": [
        "# If you restart colab, start by re-running this cell first!\n",
        "# Import our plotting package from matplotlib\n",
        "import matplotlib.pyplot as plt\n",
        "\n",
        "# Specify that all plots will happen inline & in high resolution\n",
        "%matplotlib inline\n",
        "%config InlineBackend.figure_format = 'retina'\n",
        "\n",
        "# Import pandas for working with databases\n",
        "import pandas as pd\n",
        "\n",
        "# Import seaborn for plotting adjustments with matplotlib\n",
        "import seaborn as sns\n",
        "\n",
        "# Import numpy\n",
        "import numpy as np\n",
        "\n",
        "# Print statement to confirm\n",
        "print('Packages imported!')\n"
      ]
    },
    {
      "cell_type": "markdown",
      "metadata": {
        "id": "FJDCw2n_iIZ5"
      },
      "source": [
        "# Import the data file into a `pandas` dataframe ⏳\n",
        "\n",
        "(parquet is just another file format)."
      ]
    },
    {
      "cell_type": "code",
      "execution_count": null,
      "metadata": {
        "id": "bwxm9B8aiNKK"
      },
      "outputs": [],
      "source": [
        "# Import data\n",
        "filename = \"allen_visual_behavior_2p_change_detection_familiar_novel_image_sets.parquet\"\n",
        "data = pd.read_parquet(filename)"
      ]
    },
    {
      "cell_type": "markdown",
      "metadata": {
        "execution": {},
        "id": "yBHf1vqHPOGq"
      },
      "source": [
        "## Viewing the Data (`pandas` dataframe) 👀\n",
        "#### Notice that when you write an assignment statement like the one above, python doesn't automatically print anything out or show you the dataset in this case. <br>\n",
        "#### Each row contains all data for a given cell on a given trial\n"
      ]
    },
    {
      "cell_type": "code",
      "execution_count": null,
      "metadata": {
        "execution": {},
        "id": "KLC7S1FKPOGq"
      },
      "outputs": [],
      "source": [
        "# Show the data (chooses first 5 and last 5 rows to display by default)\n",
        "data"
      ]
    },
    {
      "cell_type": "code",
      "execution_count": null,
      "metadata": {
        "id": "zk5Ms6pjVUm3"
      },
      "outputs": [],
      "source": [
        "# Let's check out all of our column names\n",
        "list(data)\n",
        "\n",
        "# np.sort(list(data)). # if you want them alphabetical instead of the order they appear"
      ]
    },
    {
      "cell_type": "code",
      "execution_count": null,
      "metadata": {
        "id": "3Xw-y5HvVZU3"
      },
      "outputs": [],
      "source": [
        "# Get info about our data- rows by col #s\n",
        "data.shape"
      ]
    },
    {
      "cell_type": "markdown",
      "metadata": {
        "execution": {},
        "id": "FUFdsuCPPOGr"
      },
      "source": [
        "\n",
        "# 🧠 Available data includes:\n",
        "*   The cell `trace` aligned to stimulus (or omission) onset in a [-1.25, 1.5] second window around onset time\n",
        "    *   Cell traces are in units of delta F/F, the change in fluorescence relative to baseline\n",
        "*   The `trace_timestamps` for each trial, aligned to stimulus or omission onset\n",
        "*   The `mean_response` on a given trial in a 500ms window after stimulus onset\n",
        "*   The `baseline_response` on a given trial in a 500ms window before stimulus onset\n",
        "*   The `image_name` for each trial. Trials where the stimulus was omitted have `image_name` = `omitted`\n",
        "*   The `image_index` indicates which of the 8 eight images for the session was presented. Should also correspond with `image_name`.\n",
        "*   The `mean_running_speed` in a 500ms window after stimulus onset\n",
        "*   The `mean_pupil_area` in a 500ms window after stimulus onset\n",
        "*   The `response_latency` when the mouse licked after stimulus onset\n",
        "*   Whether or not the trial was `rewarded`\n",
        "*   Whether or not the trial `is_change`\n",
        "*   Whether or not the trial was `omitted`\n",
        "*   Info about `age_in_days` of the animal\n",
        "*   Biological `sex` of the animal\n",
        "\n",
        "\n",
        "#### Cell and session level metadata includes:\n",
        "\n",
        "*   The `stimulus_presentations_id` indicating the trial number within the session\n",
        "*   The `cell_specimen_id` which is the unique identifier for each cell (note that a cell can be imaged in multiple sessions; if that's the case, the same cell_specimen_id appears in multiple sessions)\n",
        "*   The `cre_line` indicating the cell type\n",
        "  *   `Sst-IRES-Cre` labels SST inhibitory cells\n",
        "  *   `Vip-IRES-Cre` labels VIP inhibitory cells\n",
        "  *   `Slc17a7-IRES-Cre` labels excitatory cells (these are excluded for now)\n",
        "*   The `full_genotype` indicates all information about genetic background of the animal\n",
        "*   The `reporter_line` indicates reporter genetic background of animal\n",
        "*   The `driver_line` indicates driver genetic background of animal\n",
        "*   The `indicator` details the calcium flourescence reporter\n",
        "*   The `imaging_depth` indicating the cortical depth where the cell was located\n",
        "*   The `targeted_structure` indicating the cortical area the cell was from\n",
        "*   The `session_type` indicating the session order and image set\n",
        "*   The `exposure_level` which tells you whether the image set was familiar or novel\n",
        "*   The `session_number` corresponds to which familiar and novel imaging context was used\n",
        "*   The `mouse_id` indicating which mouse the cell came from\n",
        "*   The `ophys_session_id` indicating the recording day for that trial\n",
        "*   The `ophys_experiment_id` indicating which imaging plane within the session that the cell came from\n",
        "*   The `ophys_container_id` which links the same imaging plane recorded across multiple sessions. Cells that are imaged across multiple sessions will have the same `cell_specimen_id`\n",
        "*   The `behavior_session_id` which indicates the behavior session code for each animal\n",
        "\n",
        "\n"
      ]
    },
    {
      "cell_type": "markdown",
      "metadata": {
        "execution": {},
        "id": "uBe1mEg3POGr"
      },
      "source": [
        "## Use `unique` to find information in our columns of interest 🔬\n",
        "\n",
        "One way to start examining our data is to see what values appear in the columns. Luckily, we don't have to do this by eye 👀 and scroll the whole way through the table (although I do recommend doing this to get a feel for the data!). <br><br>\n",
        "We can use the function `unique` in `pandas` to help us out. It will return the unique values from the column we specify based on the order of appearance (it does not sort them in any way).<br> <br>\n",
        "\n",
        "Helpful info can be found in the [pandas documentation](https://pandas.pydata.org/docs/reference/api/pandas.unique.html) and [elsewhere](https://favtutor.com/blogs/pandas-unique-values-in-column)."
      ]
    },
    {
      "cell_type": "markdown",
      "source": [
        "Below, we will first call the name of our dataframe (`data`) then reference a column name of interest (`exposure_level`) and finally use `.unique()` to figure out the possible values in our column"
      ],
      "metadata": {
        "id": "KGU4yEry_ed1"
      }
    },
    {
      "cell_type": "code",
      "execution_count": null,
      "metadata": {
        "execution": {},
        "id": "y3PtpSAMPOGr"
      },
      "outputs": [],
      "source": [
        "# Image types\n",
        "print('exposure_levels:', data.exposure_level.unique())"
      ]
    },
    {
      "cell_type": "code",
      "execution_count": null,
      "metadata": {
        "execution": {},
        "id": "Lrh4QOBbPOGr"
      },
      "outputs": [],
      "source": [
        "# Same or different image\n",
        "print('stimulus presentations can be changes:', data.is_change.unique())"
      ]
    },
    {
      "cell_type": "markdown",
      "source": [
        "### More examples with unique()"
      ],
      "metadata": {
        "id": "KBNM7oCnrW9F"
      }
    },
    {
      "cell_type": "code",
      "execution_count": null,
      "metadata": {
        "execution": {},
        "id": "w1Wo4R-kPOGs"
      },
      "outputs": [],
      "source": [
        "# Omission trials\n",
        "print('stimulus presentations can be omitted:', data.omitted.unique())"
      ]
    },
    {
      "cell_type": "code",
      "execution_count": null,
      "metadata": {
        "execution": {},
        "id": "VHpTHsbwPOGs"
      },
      "outputs": [],
      "source": [
        "# Cre lines\n",
        "print('cre lines (cell types) included in this dataset are:', data.cre_line.unique())"
      ]
    },
    {
      "cell_type": "code",
      "execution_count": null,
      "metadata": {
        "execution": {},
        "id": "C_pAL4e6POGs"
      },
      "outputs": [],
      "source": [
        "# Mouse count\n",
        "print('there are', len(data.mouse_id.unique()), 'mice in this dataset')"
      ]
    },
    {
      "cell_type": "code",
      "execution_count": null,
      "metadata": {
        "execution": {},
        "id": "BPSNMsumPOGs"
      },
      "outputs": [],
      "source": [
        "# Session count\n",
        "print('there are', len(data.ophys_session_id.unique()), 'sessions in this dataset')"
      ]
    },
    {
      "cell_type": "code",
      "execution_count": null,
      "metadata": {
        "id": "TGh5JjWWWLzL"
      },
      "outputs": [],
      "source": [
        "# Cell count\n",
        "print('there are', len(data.cell_specimen_id.unique()), 'cells in this dataset')"
      ]
    },
    {
      "cell_type": "code",
      "execution_count": null,
      "metadata": {
        "id": "OKfzZe-eXLxR"
      },
      "outputs": [],
      "source": [
        "# Female count\n",
        "females = data[(data.sex == 'F')]\n",
        "print('there are', len(females.mouse_id.unique()), 'females in this dataset')"
      ]
    },
    {
      "cell_type": "code",
      "execution_count": null,
      "metadata": {
        "id": "1Y27ZoKhWYJL"
      },
      "outputs": [],
      "source": [
        "# Male count\n",
        "males = data[(data.sex == 'M')]\n",
        "print('there are', len(males.mouse_id.unique()), 'males in this dataset')"
      ]
    },
    {
      "cell_type": "code",
      "execution_count": null,
      "metadata": {
        "id": "c1_TY-oZf7R3"
      },
      "outputs": [],
      "source": [
        "# Brain region(s) info\n",
        "print('the brain region(s) in this dataset are:', data.targeted_structure.unique())\n"
      ]
    },
    {
      "cell_type": "markdown",
      "metadata": {
        "execution": {},
        "id": "_L-cUGHRPOGs"
      },
      "source": [
        "\n",
        "# 1️⃣ How are VIP and SST cells affected by stimulus novelty?"
      ]
    },
    {
      "cell_type": "markdown",
      "metadata": {
        "execution": {},
        "id": "Mf1efpZWPOGs"
      },
      "source": [
        "### Plot the population average change response for familiar and novel images for each cre line"
      ]
    },
    {
      "cell_type": "markdown",
      "metadata": {
        "execution": {},
        "id": "wrboYdozPOGt"
      },
      "source": [
        "#### **1.1**: Get trials where the image identity changed, for SST and VIP cells 🔎"
      ]
    },
    {
      "cell_type": "code",
      "execution_count": null,
      "metadata": {
        "execution": {},
        "id": "oYUIwT-ZPOGt"
      },
      "outputs": [],
      "source": [
        "sst_data = data[(data.cre_line == 'Sst-IRES-Cre')&(data.is_change == True)]\n",
        "vip_data = data[(data.cre_line == 'Vip-IRES-Cre')&(data.is_change == True)]"
      ]
    },
    {
      "cell_type": "code",
      "execution_count": null,
      "metadata": {
        "id": "gN30jEoCd7Lz"
      },
      "outputs": [],
      "source": [
        "sst_data.shape"
      ]
    },
    {
      "cell_type": "code",
      "execution_count": null,
      "metadata": {
        "id": "KtyMkvv6d9nc"
      },
      "outputs": [],
      "source": [
        "vip_data.shape"
      ]
    },
    {
      "cell_type": "markdown",
      "metadata": {
        "execution": {},
        "id": "4gQxrYuZPOGt"
      },
      "source": [
        "#### **1.2**: Plot the population average change response of **SST** cells for familiar and novel images 📈\n",
        "\n",
        "#### First, let's think about what data we need from the table. In this case, we want to plot the change in calcium flourescence (y-axis) over time (x-axis). <br>\n",
        "#### The two columns with this info are: <br>\n",
        "`trace`<br>\n",
        "`trace_timestamps`"
      ]
    },
    {
      "cell_type": "markdown",
      "metadata": {
        "id": "-O3D5NZ1DwPP"
      },
      "source": [
        "Let's take a look at this data before we plot."
      ]
    },
    {
      "cell_type": "code",
      "execution_count": null,
      "metadata": {
        "id": "0V39rFEODzfm"
      },
      "outputs": [],
      "source": [
        "# trace data\n",
        "trace_sst = sst_data.trace\n",
        "trace_sst"
      ]
    },
    {
      "cell_type": "code",
      "execution_count": null,
      "metadata": {
        "id": "PB0HVjAhervJ"
      },
      "outputs": [],
      "source": [
        "# timestamps- aligned to stimulus onset or omission\n",
        "timestamps_sst = sst_data.trace_timestamps\n",
        "timestamps_sst"
      ]
    },
    {
      "cell_type": "markdown",
      "source": [
        "Stop, look at the data, and think 💭 <br>\n",
        "\n",
        "What do you notice?"
      ],
      "metadata": {
        "id": "Kc0CcyAJ__42"
      }
    },
    {
      "cell_type": "markdown",
      "source": [
        "^ Hopefully you can see that all the timestamps are the same- they should be! Everything was aligned (in time) for us, so we only need this set of values once for our x-axis"
      ],
      "metadata": {
        "id": "oJo5nHxMAJz-"
      }
    },
    {
      "cell_type": "markdown",
      "metadata": {
        "id": "fCVd1j5RFe8D"
      },
      "source": [
        "Now that we know what these look like, we need to figure out how to incorporate them into a plot. We will first use `matplotlib`, which we imported as `plt`.<br>\n",
        "We reference the column from the dataset that we want (`trace_timestamps`), and use [`.values`](https://pandas.pydata.org/docs/reference/api/pandas.DataFrame.values.html) from `pandas` to show the values in the first one"
      ]
    },
    {
      "cell_type": "code",
      "execution_count": null,
      "metadata": {
        "id": "g_brdDHLFrNh"
      },
      "outputs": [],
      "source": [
        "# We reference the column from the dataset that we want (trace_timestamps), and use .values from pandas to access the values in the first one\n",
        "timestamps = sst_data.trace_timestamps.values[0]\n",
        "timestamps"
      ]
    },
    {
      "cell_type": "markdown",
      "source": [
        "^Another new thing here! Why did we use 0 to reference the **first** one? <br>\n",
        "Python uses zero indexing - the first element is element 0, the second element is element 1, etc. This is something that takes getting used to. We will cover this soon in the next few weeks of class."
      ],
      "metadata": {
        "id": "JRE3GtSoAVlc"
      }
    },
    {
      "cell_type": "code",
      "execution_count": null,
      "metadata": {
        "id": "fhsN11I1Ge1G"
      },
      "outputs": [],
      "source": [
        "# Now we want to plot the y-values for each image condition- familiar and novel\n",
        "fam_sst = sst_data[sst_data.exposure_level=='familiar'].trace.values\n",
        "nov_sst = sst_data[sst_data.exposure_level=='novel'].trace.values"
      ]
    },
    {
      "cell_type": "code",
      "execution_count": null,
      "metadata": {
        "id": "9brLMd-xhujx"
      },
      "outputs": [],
      "source": [
        "fam_sst"
      ]
    },
    {
      "cell_type": "markdown",
      "source": [
        "Now time for our first plot:"
      ],
      "metadata": {
        "id": "ktaNPV7SAabD"
      }
    },
    {
      "cell_type": "code",
      "execution_count": null,
      "metadata": {
        "id": "-FjdR97uGy_a"
      },
      "outputs": [],
      "source": [
        "# Plotting population average (all cells) SST response for familiar and novel images\n",
        "plt.plot(timestamps, np.mean(fam_sst), label='familiar')\n",
        "plt.plot(timestamps, np.mean(nov_sst), label='novel')\n",
        "\n",
        "\n",
        "# Plot aesthetics\n",
        "plt.title('SST population average')\n",
        "plt.xlabel('Time after change (sec)')\n",
        "plt.ylabel('dF/F')\n",
        "plt.legend()\n",
        "plt.show()"
      ]
    },
    {
      "cell_type": "code",
      "execution_count": null,
      "metadata": {
        "execution": {},
        "id": "fiwCd9vdPOGt",
        "cellView": "form"
      },
      "outputs": [],
      "source": [
        "#@title Advanced: Using a for loop to create the same plot above\n",
        "# Plotting code will generate the same plot as above, just more advanced using loop\n",
        "timestamps = sst_data.trace_timestamps.values[0]\n",
        "\n",
        "# Here we can loop through the unique levels of exposure (familiar and novel) to plot each\n",
        "for exposure_level in sst_data.exposure_level.unique():\n",
        "  traces = sst_data[sst_data.exposure_level==exposure_level].trace.values\n",
        "  plt.plot(timestamps, np.mean(traces), label=exposure_level)\n",
        "\n",
        "# Plot aesthetics\n",
        "plt.title('SST population average')\n",
        "plt.xlabel('Time after change (sec)')\n",
        "plt.ylabel('dF/F')\n",
        "plt.legend()\n",
        "plt.show()"
      ]
    },
    {
      "cell_type": "markdown",
      "metadata": {
        "execution": {},
        "id": "AhFtI-WZPOGt"
      },
      "source": [
        "#### **1.3**: Plot the population average change response of **VIP** cells for familiar and novel images"
      ]
    },
    {
      "cell_type": "markdown",
      "metadata": {
        "id": "STvvJ8daS6xx"
      },
      "source": [
        "Similar to above, but now with VIP data instead of SST"
      ]
    },
    {
      "cell_type": "code",
      "execution_count": null,
      "metadata": {
        "id": "Za1dFIqiTCel"
      },
      "outputs": [],
      "source": [
        "# We reference the column from the dataset that we want (trace_timestamps), and use .values from pandas to access the values in the first one\n",
        "timestamps_vip = vip_data.trace_timestamps.values[0]\n",
        "timestamps_vip"
      ]
    },
    {
      "cell_type": "code",
      "execution_count": null,
      "metadata": {
        "id": "Kc_cpfeuTGKM"
      },
      "outputs": [],
      "source": [
        "# Now we want to plot the y-values for each image condition- familiar and novel\n",
        "fam_vip = vip_data[vip_data.exposure_level=='familiar'].trace.values\n",
        "nov_vip = vip_data[vip_data.exposure_level=='novel'].trace.values"
      ]
    },
    {
      "cell_type": "code",
      "execution_count": null,
      "metadata": {
        "id": "9ACZZGxFTMNz"
      },
      "outputs": [],
      "source": [
        "# Plotting population average (all cells) VIP response for familiar and novel images\n",
        "plt.plot(timestamps_vip, np.mean(fam_vip), label='familiar')\n",
        "plt.plot(timestamps_vip, np.mean(nov_vip), label='novel')\n",
        "\n",
        "\n",
        "# Plot aesthetics\n",
        "plt.title('VIP population average')\n",
        "plt.xlabel('Time after change (sec)')\n",
        "plt.ylabel('dF/F')\n",
        "plt.legend()\n",
        "plt.show()"
      ]
    },
    {
      "cell_type": "code",
      "execution_count": null,
      "metadata": {
        "execution": {},
        "id": "znfU_SIgPOGt",
        "cellView": "form"
      },
      "outputs": [],
      "source": [
        "#@title Advanced: Using a for loop to create the same plot above\n",
        "# Advanced with a loop for the conditions (same plot as above though)\n",
        "\n",
        "timestamps = vip_data.trace_timestamps.values[0]\n",
        "\n",
        "# Here we can loop through the unique levels of exposure (familiar and novel) to plot each\n",
        "for exposure_level in vip_data.exposure_level.unique():\n",
        "  traces = vip_data[vip_data.exposure_level==exposure_level].trace.values\n",
        "  plt.plot(timestamps, np.mean(traces), label=exposure_level)\n",
        "\n",
        "# Plot aesthetics\n",
        "plt.title('VIP population average')\n",
        "plt.xlabel('time after change (sec)')\n",
        "plt.ylabel('dF/F')\n",
        "plt.legend()\n",
        "plt.show()"
      ]
    },
    {
      "cell_type": "markdown",
      "metadata": {
        "execution": {},
        "id": "DMXpenTVPOGt"
      },
      "source": [
        "_______\n",
        "# 2️⃣ How do we find cells that were imaged across multiple sessions? How do single cells change depending on the image set?"
      ]
    },
    {
      "cell_type": "code",
      "execution_count": null,
      "metadata": {
        "execution": {},
        "id": "W0N6y8-QPOGt"
      },
      "outputs": [],
      "source": [
        "# which cells are in more than one session? make a list\n",
        "cells_in_multiple_sessions = []\n",
        "\n",
        "for cell_specimen_id in vip_data.cell_specimen_id.unique():\n",
        "  if len(vip_data[vip_data.cell_specimen_id == cell_specimen_id].ophys_session_id.unique()) > 1:\n",
        "    cells_in_multiple_sessions.append(cell_specimen_id)\n",
        "\n",
        "print(cells_in_multiple_sessions)"
      ]
    },
    {
      "cell_type": "code",
      "execution_count": null,
      "metadata": {
        "id": "uSM7OQ5JUNC1"
      },
      "outputs": [],
      "source": [
        "# 1 - we start by getting a list of the unique ids\n",
        "vip_data.cell_specimen_id.unique()"
      ]
    },
    {
      "cell_type": "code",
      "execution_count": null,
      "metadata": {
        "id": "3Qt2oSlTVDha"
      },
      "outputs": [],
      "source": [
        "# 2 - but who wants to count- let's use len to tell us how many cells there are\n",
        "len(cells_in_multiple_sessions)"
      ]
    },
    {
      "cell_type": "markdown",
      "source": [
        "We pick a test cell id from the list. We will just pick the first one (note it is not in the multiple session list for reference)"
      ],
      "metadata": {
        "id": "JgpNFvKXA4i2"
      }
    },
    {
      "cell_type": "code",
      "execution_count": null,
      "metadata": {
        "id": "6ZVn16t6k4eu"
      },
      "outputs": [],
      "source": [
        "# 3 - let's pick a test cell\n",
        "cell_specimen_id = 1086492391"
      ]
    },
    {
      "cell_type": "code",
      "execution_count": null,
      "metadata": {
        "id": "ycm-gFstU2Ct"
      },
      "outputs": [],
      "source": [
        "# 4 - let's see what appears first before evaluating the length and >1\n",
        "# Notice this is just part of the code in the line that starts with 'if'\n",
        "vip_data[vip_data.cell_specimen_id == cell_specimen_id].ophys_session_id.unique()"
      ]
    },
    {
      "cell_type": "code",
      "execution_count": null,
      "metadata": {
        "id": "_Clfe1BGURjU"
      },
      "outputs": [],
      "source": [
        "# 5 - Now put it all together - does the output make sense?\n",
        "# Find the data for the single cell\n",
        "# Find the unique entries of ophys_session_id\n",
        "# If the length of this is great than 1, it was a repeat cell\n",
        "len(vip_data[vip_data.cell_specimen_id == cell_specimen_id].ophys_session_id.unique()) > 1"
      ]
    },
    {
      "cell_type": "markdown",
      "source": [
        "We pick a test cell id from the multiple session list. We will just pick the first one"
      ],
      "metadata": {
        "id": "nwiCgpnpBAae"
      }
    },
    {
      "cell_type": "code",
      "execution_count": null,
      "metadata": {
        "id": "BDfkH0MplCxu"
      },
      "outputs": [],
      "source": [
        "# 6 - cell id from the multiple session list\n",
        "cell_specimen_id = 1086495458"
      ]
    },
    {
      "cell_type": "code",
      "execution_count": null,
      "metadata": {
        "id": "C4W2TYcNUf1q"
      },
      "outputs": [],
      "source": [
        "# 7 - let's see what appears first before evaluating the length and >1\n",
        "# Notice this is just part of the code in the line that starts with 'if'\n",
        "vip_data[vip_data.cell_specimen_id == cell_specimen_id].ophys_session_id.unique()"
      ]
    },
    {
      "cell_type": "code",
      "execution_count": null,
      "metadata": {
        "id": "S1VhOUO4UaYh"
      },
      "outputs": [],
      "source": [
        "# 8 - Now put it all together- does the output make sense?\n",
        "len(vip_data[vip_data.cell_specimen_id == cell_specimen_id].ophys_session_id.unique()) > 1"
      ]
    },
    {
      "cell_type": "markdown",
      "metadata": {
        "id": "NSWU3mO1lXIl"
      },
      "source": [
        "#### **2.1** Plot and review the data from an example cell in the multiple sessions list"
      ]
    },
    {
      "cell_type": "code",
      "execution_count": null,
      "metadata": {
        "execution": {},
        "id": "-WWJSEA6POGu"
      },
      "outputs": [],
      "source": [
        "# this one looks like the population average\n",
        "example_cell_specimen_id = cells_in_multiple_sessions[15]\n",
        "\n",
        "# Select the data for our cell of interest\n",
        "cell_data = vip_data[vip_data.cell_specimen_id == example_cell_specimen_id]\n",
        "timestamps = cell_data.trace_timestamps.values[0]\n",
        "\n",
        "# Use a loop to plot for both exposure levels (familiar and novel)\n",
        "for exposure_level in cell_data.exposure_level.unique():\n",
        "  mean_trace = cell_data[cell_data.exposure_level == exposure_level].trace.mean()\n",
        "  plt.plot(timestamps, mean_trace, label=exposure_level)\n",
        "\n",
        "# Plot aesthetics\n",
        "plt.title(f'cell_specimen_id:{example_cell_specimen_id}') # new - formatted string literal - don't need to know this, it's extra\n",
        "plt.xlabel('time after change (sec)')\n",
        "plt.ylabel('dF/F')\n",
        "plt.legend()\n",
        "plt.show()"
      ]
    },
    {
      "cell_type": "code",
      "execution_count": null,
      "metadata": {
        "execution": {},
        "id": "cX3m6smtPOGu"
      },
      "outputs": [],
      "source": [
        "# this one does *not* look like the population average\n",
        "example_cell_specimen_id = cells_in_multiple_sessions[0]\n",
        "\n",
        "# Select the data for our cell of interest\n",
        "cell_data = vip_data[vip_data.cell_specimen_id==example_cell_specimen_id]\n",
        "timestamps = cell_data.trace_timestamps.values[0]\n",
        "\n",
        "# Use a loop to plot for both exposure levels (familiar and novel)\n",
        "for exposure_level in cell_data.exposure_level.unique():\n",
        "  mean_trace = cell_data[cell_data.exposure_level == exposure_level].trace.mean()\n",
        "  plt.plot(timestamps, mean_trace, label=exposure_level)\n",
        "\n",
        "# Plot aesthetics\n",
        "plt.title(f'cell_specimen_id:{example_cell_specimen_id}')\n",
        "plt.xlabel('time after change (sec)')\n",
        "plt.ylabel('dF/F')\n",
        "plt.legend()\n",
        "plt.show()"
      ]
    },
    {
      "cell_type": "markdown",
      "metadata": {
        "execution": {},
        "id": "B6ZthRJ6POGu"
      },
      "source": [
        "### **2.2** What about trial to trial variability? How does the response of a single cell vary across a session?\n",
        "\n"
      ]
    },
    {
      "cell_type": "code",
      "execution_count": null,
      "metadata": {
        "id": "ivdY-l8-V1MY"
      },
      "outputs": [],
      "source": [
        "# Pre-selected one- feel free to choose another\n",
        "example_cell_specimen_id = vip_data[vip_data.exposure_level=='novel'].cell_specimen_id.unique()[7]\n",
        "example_cell_specimen_id"
      ]
    },
    {
      "cell_type": "code",
      "execution_count": null,
      "metadata": {
        "id": "zlRIGwwZng-D"
      },
      "outputs": [],
      "source": [
        "# Get all the data from the larger table for this cell id we chose above\n",
        "cell_data = vip_data[vip_data.cell_specimen_id == example_cell_specimen_id]\n",
        "cell_data"
      ]
    },
    {
      "cell_type": "code",
      "execution_count": null,
      "metadata": {
        "id": "7bVIh5Tpnsy8"
      },
      "outputs": [],
      "source": [
        "# What images were shown? Need to know how many in the list to choose one below\n",
        "cell_data.image_name.unique()"
      ]
    },
    {
      "cell_type": "code",
      "execution_count": null,
      "metadata": {
        "execution": {},
        "id": "HF3Ke4p7POGu"
      },
      "outputs": [],
      "source": [
        "# pick a cell from a novel image session\n",
        "example_cell_specimen_id = vip_data[vip_data.exposure_level=='novel'].cell_specimen_id.unique()[7]\n",
        "\n",
        "# Select the data for our cell of interest\n",
        "cell_data = vip_data[vip_data.cell_specimen_id == example_cell_specimen_id]\n",
        "cell_data = cell_data[(cell_data.image_name == cell_data.image_name.unique()[2])] # pick one unique image from the 8- im061\n",
        "\n",
        "# This controls the color options\n",
        "offset = 1 / len(cell_data.stimulus_presentations_id.unique())\n",
        "color = [0, 0, 0]\n",
        "\n",
        "# Loop for plotting all of the data for this cell\n",
        "for i, stimulus_presentations_id in enumerate(cell_data.stimulus_presentations_id.unique()):\n",
        "  trial_data = cell_data[cell_data.stimulus_presentations_id == stimulus_presentations_id]\n",
        "  timestamps = trial_data.trace_timestamps.values[0]\n",
        "  trace = trial_data.trace.values[0]\n",
        "  plt.plot(timestamps, trace, color = color)\n",
        "  color = [color[0] + offset, color[1] + offset, color[2] + offset]\n",
        "\n",
        "# Plot aesthetics\n",
        "plt.title(f'cell_specimen_id:{example_cell_specimen_id}')\n",
        "plt.xlabel('time after change (sec)')\n",
        "plt.ylabel('dF/F')\n",
        "plt.show()"
      ]
    },
    {
      "cell_type": "markdown",
      "metadata": {
        "execution": {},
        "id": "4tgKV2qpPOGy"
      },
      "source": [
        "_____\n",
        "# 3️⃣ How do SST and VIP cells respond when stimuli are omitted?"
      ]
    },
    {
      "cell_type": "markdown",
      "metadata": {
        "execution": {},
        "id": "LhbnjFrKPOGy"
      },
      "source": [
        "### Plot the population average response to stimulus omission"
      ]
    },
    {
      "cell_type": "markdown",
      "metadata": {
        "execution": {},
        "id": "C5GSTm4rPOGy"
      },
      "source": [
        "#### **3.1**: Get trials where the stimulus was omitted, for SST and VIP cells"
      ]
    },
    {
      "cell_type": "code",
      "execution_count": null,
      "metadata": {
        "execution": {},
        "id": "tIYxM4NGPOGy"
      },
      "outputs": [],
      "source": [
        "sst_data_omit = data[(data.cre_line == 'Sst-IRES-Cre')&(data.omitted == True)]\n",
        "vip_data_omit = data[(data.cre_line == 'Vip-IRES-Cre')&(data.omitted == True)]"
      ]
    },
    {
      "cell_type": "markdown",
      "source": [
        "^ Compare this code to what we wrote above in the first section. Which **one** piece has changed?"
      ],
      "metadata": {
        "id": "XiIi20W_BSTU"
      }
    },
    {
      "cell_type": "markdown",
      "metadata": {
        "execution": {},
        "id": "5tHMRXWkPOGy"
      },
      "source": [
        "Plot the population average omission response of SST cells for familiar and novel images"
      ]
    },
    {
      "cell_type": "code",
      "execution_count": null,
      "metadata": {
        "execution": {},
        "id": "EHMwkmdhPOGy"
      },
      "outputs": [],
      "source": [
        "# Get the x-axis values for the time\n",
        "timestamps = sst_data_omit.trace_timestamps.values[0] # trace timestamps are relative to stimulus onset\n",
        "\n",
        "# Get the y-axis values of dF/F to plot for each exposure level (novel and familiar)\n",
        "for exposure_level in sst_data_omit.exposure_level.unique():\n",
        "  traces = sst_data_omit[sst_data_omit.exposure_level == exposure_level].trace.values\n",
        "  plt.plot(timestamps, np.mean(traces), label=exposure_level)\n",
        "\n",
        "# Plot aesthetics\n",
        "plt.title('SST population average')\n",
        "plt.xlabel('time after omission (sec)')\n",
        "plt.ylabel('dF/F')\n",
        "plt.legend()\n",
        "plt.show()"
      ]
    },
    {
      "cell_type": "markdown",
      "metadata": {
        "execution": {},
        "id": "Cfx0GQdfPOGz"
      },
      "source": [
        "Plot population average omission response of VIP cells for familiar and novel images. <br>\n",
        "Use previous ccode (for **change** responses) to write your own code here. <br>\n",
        "Feel free to copy and paste- just make sure to edit the code accordingly."
      ]
    },
    {
      "cell_type": "code",
      "source": [
        "# Your code here"
      ],
      "metadata": {
        "id": "WNlb-ZJiBqow"
      },
      "execution_count": null,
      "outputs": []
    },
    {
      "cell_type": "markdown",
      "source": [
        "The solution is provided below- but no peeking! 🙈 <br>\n",
        "Give it a try before you check your answer 💪\n"
      ],
      "metadata": {
        "id": "yp4Wh6VhBtho"
      }
    },
    {
      "cell_type": "code",
      "execution_count": null,
      "metadata": {
        "execution": {},
        "id": "BRzm5X8CPOGz",
        "cellView": "form"
      },
      "outputs": [],
      "source": [
        "#@title Solution\n",
        "# Get the x-axis values for the time\n",
        "timestamps = vip_data_omit.trace_timestamps.values[0]\n",
        "\n",
        "# Get the y-axis values of dF/F to plot for each exposure level (novela and familiar)\n",
        "for exposure_level in vip_data_omit.exposure_level.unique():\n",
        "  traces = vip_data_omit[vip_data_omit.exposure_level == exposure_level].trace.values\n",
        "  plt.plot(timestamps, np.mean(traces), label=exposure_level)\n",
        "\n",
        "# Plot aesthetics\n",
        "plt.title('VIP population average')\n",
        "plt.xlabel('time after omission (sec)')\n",
        "plt.ylabel('dF/F')\n",
        "plt.legend()\n",
        "plt.show()"
      ]
    },
    {
      "cell_type": "markdown",
      "source": [
        "#### **3.3**: Plot population average omission response of **VIP** cells for familiar and novel images"
      ],
      "metadata": {
        "id": "aNY7ZLzgB8p-"
      }
    },
    {
      "cell_type": "code",
      "source": [
        "# your code here"
      ],
      "metadata": {
        "id": "Vj1TuOVBB_Q9"
      },
      "execution_count": null,
      "outputs": []
    },
    {
      "cell_type": "code",
      "source": [
        "#@title Example Solution\n",
        "# Get the x-axis values for the time\n",
        "timestamps = vip_data_omit.trace_timestamps.values[0]\n",
        "\n",
        "# Get the y-axis values of dF/F to plot for each exposure level (novela and familiar)\n",
        "for exposure_level in vip_data_omit.exposure_level.unique():\n",
        "  traces = vip_data_omit[vip_data_omit.exposure_level == exposure_level].trace.values\n",
        "  plt.plot(timestamps, np.mean(traces), label=exposure_level)\n",
        "\n",
        "# Plot aesthetics\n",
        "plt.title('VIP population average')\n",
        "plt.xlabel('time after omission (sec)')\n",
        "plt.ylabel('dF/F')\n",
        "plt.legend()\n",
        "plt.show()"
      ],
      "metadata": {
        "cellView": "form",
        "id": "pPrfKi4-CBGs"
      },
      "execution_count": null,
      "outputs": []
    },
    {
      "cell_type": "markdown",
      "metadata": {
        "execution": {},
        "id": "64FjIhShPOGz"
      },
      "source": [
        "#### ❓ Additional questions you could ask about and plot from this dataset:  <br>\n",
        "1.   Does the omission response correlate with behavior?\n",
        "\n",
        "2.   How do the dynamics of image and omission evoked activity change over time during the novel image session?\n",
        "\n",
        "______"
      ]
    },
    {
      "cell_type": "markdown",
      "metadata": {
        "id": "cCVrrPwgpg6t"
      },
      "source": [
        "#  4️⃣ Comparing data format: plotting with long format data 🔀\n"
      ]
    },
    {
      "cell_type": "markdown",
      "metadata": {
        "id": "Hlb7FkxBpLp9"
      },
      "source": [
        "<u> **Note on data format**</u>: This dataset is in wide format, where each row would represent a different `cell_id `and all data for that cell would be contained in the columns of a single row. See a smaller image of the table we've been working with below, focusing on the 'dff' column (which has multiple values in it) in the example image below for comparison:\n",
        "\n",
        "![](https://github.com/tmckim/materials-fa24-colab/blob/main/lec_demos/lec01/data_wide.png?raw=1)"
      ]
    },
    {
      "cell_type": "markdown",
      "metadata": {
        "id": "CDNecRknpZkr"
      },
      "source": [
        "## Tidy Data 🧹\n",
        "However, sometimes datasets can be easier to work with in long-format, or [`tidy`](https://aeturrell.github.io/python4DS/data-tidy.html) data. <br>\n",
        "To demonstrate this, let's open another file for a **single mouse** 🐭 that has been reformatted already.\n",
        "\n",
        "Here is another example of loading data - it can also easily be loaded from `.csv` files using `pandas`."
      ]
    },
    {
      "cell_type": "code",
      "execution_count": null,
      "metadata": {
        "id": "TVUMnWSimNnE"
      },
      "outputs": [],
      "source": [
        "# Load the data file - SST_data.csv\n",
        "single_data = pd.read_csv('SST_data.csv')\n",
        "\n",
        "# Show the data for review\n",
        "single_data"
      ]
    },
    {
      "cell_type": "markdown",
      "metadata": {
        "id": "lHuNznCPmVTs"
      },
      "source": [
        "You can see that in this dataframe, `trial_id` is repeated across multiple rows of the dataset. So, a single `cell_id` is repeated across the rows. This is most similar to the data we will work with in this course.\n",
        "\n",
        "Advantages to tidy data:\n",
        "\n",
        "1.   Consistency: enables learning tools to work with your data, such as `seaborn` (data viz) that is designed to work with tidy data\n",
        "2.   Efficiency: Placing variables in columns makes using pandas operations most efficient\n",
        "\n",
        "_____"
      ]
    },
    {
      "cell_type": "markdown",
      "metadata": {
        "id": "M1gBxylXn1Wl"
      },
      "source": [
        "## Columns in the dataset\n",
        "They are similar and a smaller subset from the ones above, with some names just slightly adjusted:\n",
        "\n",
        "* `dF_F` calcium imaging signal (baseline corrected, normalized fluorescence) <br>\n",
        "* `time_from_stim` is the timepoint of each row of data, aligned to an image presentation. Onset = time zero, and the times here span a (-1.25, 1.5) sec window  <br>\n",
        "* `cell_id` id number for the cell <br>\n",
        "* `exposure` whether the image for a trial was familiar or novel  <br>\n",
        "* `trial_id` each image presentation is a separate trial <br>\n",
        "* `omitted` whether a trial had an omitted image <br>\n",
        "* `pupil_area` measured 500ms after stimulus presntation <br>\n",
        "* `mean_response` average dF/F over the 500ms following image presentation <br>"
      ]
    },
    {
      "cell_type": "markdown",
      "metadata": {
        "id": "eIMlTxlMN0bh"
      },
      "source": [
        "Now, let's take a closer look at the data and do some preliminary exploration to understand what we are working with.\n",
        "\n",
        "Let's see how many cells are in the dataset."
      ]
    },
    {
      "cell_type": "code",
      "source": [
        "##--- Edit this\n",
        "# Find the unique entries from the cell_id column of the dataset\n",
        "# Review: index the dataframe using .COLUMN_NAME to refer to the column that you want\n",
        "# Don't forget to use a method that allows you to *count* them\n",
        "\n"
      ],
      "metadata": {
        "id": "zzB5T1N8CVJi"
      },
      "execution_count": null,
      "outputs": []
    },
    {
      "cell_type": "code",
      "execution_count": null,
      "metadata": {
        "id": "gEkwbkiDnMtw",
        "cellView": "form"
      },
      "outputs": [],
      "source": [
        "#@title Example Solution\n",
        "# Find the unique entries from the cell_id column of the dataset\n",
        "# Review: index the dataframe using .COLUMN_NAME to refer to the column that you want\n",
        "len(single_data.cell_id.unique())"
      ]
    },
    {
      "cell_type": "markdown",
      "metadata": {
        "id": "ucRsUE1BnXAH"
      },
      "source": [
        "Let's look at a single `trial_id` and single `cell_id` combination."
      ]
    },
    {
      "cell_type": "code",
      "execution_count": null,
      "metadata": {
        "id": "9ASY3Wqpnb9G"
      },
      "outputs": [],
      "source": [
        "# select which trial id and cell id from the dataframe\n",
        "singlecell_trial_data = single_data[(single_data.trial_id == 24) & (single_data.cell_id == 1086500633)]\n",
        "\n",
        "# Display the data\n",
        "singlecell_trial_data"
      ]
    },
    {
      "cell_type": "markdown",
      "metadata": {
        "id": "EGRcdh4boIzq"
      },
      "source": [
        "## **4.1** Plotting with Seaborn package"
      ]
    },
    {
      "cell_type": "markdown",
      "metadata": {
        "id": "S2oEfQpKoHIS"
      },
      "source": [
        "### Part 1: Plotting separate conditions with Seaborn\n",
        "Recall that we imported `seaborn` as `sns`. First, we will use a function called `sns.lineplot`. We will use this to plot our calcium signal based on familiar and novel trials. `Seaborn` allows us to do this by using `hue` in combination with the name of our variable of interest. <br>\n",
        "\n",
        "Read what this does and refer to the examples in the `sns.lineplot` [documentation](https://seaborn.pydata.org/generated/seaborn.lineplot.html#seaborn.lineplot)."
      ]
    },
    {
      "cell_type": "markdown",
      "metadata": {
        "id": "kFIlYziuohFg"
      },
      "source": [
        "#### 4.1.1 Lineplot\n",
        "Let's plot the data like we did above, but remember this is now trials averaged for just a single mouse.\n",
        "\n",
        "\n",
        "Note: This may take a few seconds, compared to how long it took for the previous plotting code to run above. There are some statistics being computed in the background, so it takes a bit longer (~10 secs) for the plot to be displayed."
      ]
    },
    {
      "cell_type": "code",
      "execution_count": null,
      "metadata": {
        "id": "nCt_YaLqoYRy"
      },
      "outputs": [],
      "source": [
        "# Lineplot code\n",
        "sns.lineplot(data = single_data,\n",
        "             x = 'time_from_stim',\n",
        "             y = 'dF_F',\n",
        "             hue = 'exposure');\n"
      ]
    },
    {
      "cell_type": "markdown",
      "metadata": {
        "id": "xWY7KKyAos7x"
      },
      "source": [
        "Let's review the plot above. How does this output compare to what was produced when we plotted with **matplotlib**?\n",
        ">Which specific aspects of the plot were added automatically?"
      ]
    },
    {
      "cell_type": "markdown",
      "metadata": {
        "id": "ekOgQcCvo5fZ"
      },
      "source": [
        "#### 4.1.2 Relplot\n",
        "Now, let's plot again, but using a different function within **seaborn** to compare. <br>\n",
        "Review the documentation on `relplot` [here](https://seaborn.pydata.org/tutorial/relational.html#visualizing-statistical-relationships). <br>\n",
        "Read the first section **[Visualizaing statistical relationships](https://seaborn.pydata.org/tutorial/relational.html#visualizing-statistical-relationships)**, and then scroll below (you can skip the sections leading up to the next one ->) and read **[Emphasizing continuity with line plots](https://seaborn.pydata.org/tutorial/relational.html#emphasizing-continuity-with-line-plots)**."
      ]
    },
    {
      "cell_type": "markdown",
      "metadata": {
        "id": "AA-utchJo92H"
      },
      "source": [
        "Let's use the code below to plot again.\n"
      ]
    },
    {
      "cell_type": "code",
      "execution_count": null,
      "metadata": {
        "id": "q1VnZP9Zo9F2"
      },
      "outputs": [],
      "source": [
        "# relplot\n",
        "sns.relplot(data = single_data, x='time_from_stim', y='dF_F', kind = 'line', hue = 'exposure');\n",
        "\n"
      ]
    },
    {
      "cell_type": "markdown",
      "metadata": {
        "id": "Bb3so2OapRP2"
      },
      "source": [
        "Does this plot look similar to the first one? It should be exactly the same (note: the axes might appear visually stretched, but the data hasn't changed!). <br>\n",
        "\n",
        "This demonstrates that there may be multiple ways to use functions within packages to produce the same plots and data visualizations!"
      ]
    },
    {
      "cell_type": "markdown",
      "metadata": {
        "id": "Rh01ZEbyp2fb"
      },
      "source": [
        "#### 4.1.3 Changing Labels\n",
        "We can also change the names of the labels on our plots. There are a few ways to do this, but the easiest is to interface with **matplotlib** like we did previously.\n"
      ]
    },
    {
      "cell_type": "markdown",
      "metadata": {
        "id": "B2jukc27p8Hi"
      },
      "source": [
        "><b>Task:</b> Review the code and add labels by replacing `<insert_text>`.  Feel free to edit other settings and practice options for using `set_style` and `palette`. Run the code below. <br> We are again plotting the calcium signal over (`dF_F`) over time (`time_from_stim`) by familiar/novel (`exposure`) conditions."
      ]
    },
    {
      "cell_type": "code",
      "execution_count": null,
      "metadata": {
        "id": "OhlIxdfJp_bz"
      },
      "outputs": [],
      "source": [
        "##--- Edit this\n",
        "# Plot with adjusted labels\n",
        "# Another style option\n",
        "sns.set_style('ticks')\n",
        "\n",
        "# Plot with palette and adjust labels/title\n",
        "sns.lineplot(data = single_data,\n",
        "             x = 'time_from_stim',\n",
        "             y = 'dF_F',\n",
        "             hue = 'exposure',\n",
        "             palette = 'flare')\n",
        "\n",
        "plt.xlabel(<insert_text>)  # edit\n",
        "plt.ylabel(<insert_text>)  # edit\n",
        "plt.title(<insert_text>)   # edit\n",
        "plt.legend(bbox_to_anchor=(1.05, 1), loc='upper left', borderaxespad=0);  # you don't need to know this, but it puts the legend outside the box so it doesn't overlap with data"
      ]
    },
    {
      "cell_type": "code",
      "source": [
        "#@title Example Solution\n",
        "# Plot with adjusted labels\n",
        "# Another style option\n",
        "sns.set_style('ticks')\n",
        "\n",
        "# Plot with palette and adjust labels/title\n",
        "sns.lineplot(data = single_data, x = 'time_from_stim', y = 'dF_F', hue = 'exposure', palette = 'flare')\n",
        "\n",
        "plt.xlabel('Time from image presentation')\n",
        "plt.ylabel('Calcium Activity')\n",
        "plt.title('Calcium imaging over time')\n",
        "plt.legend(bbox_to_anchor=(1.05, 1), loc='upper left', borderaxespad=0);  # you don't need to know this, but it puts the legend outside the box so it doesn't overlap with data"
      ],
      "metadata": {
        "id": "hLa0HDoLC9gO"
      },
      "execution_count": null,
      "outputs": []
    },
    {
      "cell_type": "markdown",
      "metadata": {
        "id": "lrVoUSrBqrmo"
      },
      "source": [
        "#### 4.1.4 Adding multiple condition combinations\n",
        "\n",
        "We can add another condition (`omitted`) to the plot  using the [style](https://seaborn.pydata.org/generated/seaborn.lineplot.html#seaborn.lineplot) option."
      ]
    },
    {
      "cell_type": "code",
      "execution_count": null,
      "metadata": {
        "id": "qahlgTghqyY4"
      },
      "outputs": [],
      "source": [
        "# Multiple conditions\n",
        "# Set the size\n",
        "plt.figure(figsize=(8,4))\n",
        "\n",
        "# Plot the data\n",
        "sns.lineplot(data = single_data,\n",
        "             x = 'time_from_stim',\n",
        "             y = 'dF_F',\n",
        "             hue = 'exposure',\n",
        "             style = 'omitted',\n",
        "             palette = 'mako')\n",
        "plt.xlabel('Time from stim')\n",
        "plt.ylabel('dF/F')\n",
        "plt.title('All the combinations')\n",
        "plt.legend(bbox_to_anchor=(1.05, 1), loc='upper left', borderaxespad=0);  # you don't need to know this, but it puts the legend outside the box so it doesn't overlap with data"
      ]
    },
    {
      "cell_type": "markdown",
      "metadata": {
        "id": "91R7civspXlF"
      },
      "source": [
        "## Part 2: Figure aesthetics 💄\n",
        "With `seaborn`, there are multiple options for controlling [aesthetics](https://seaborn.pydata.org/tutorial/aesthetics.html#). Review the link to see how we will start use `sns.set_style` and `sns.set_context`.  \n",
        "\n",
        "Let's also look at the data in a different way, using another variable from the dataset: `mean_response`. What does this variable measure, and how does it relate to the previous one we were using, `dF_F`? <br> <br>\n",
        "\n",
        "We will also introduce another plot type `catplot` to display individual data points. Review the documentation [here](https://seaborn.pydata.org/tutorial/introduction.html#plots-for-categorical-data)."
      ]
    },
    {
      "cell_type": "code",
      "execution_count": null,
      "metadata": {
        "id": "GBCMyGxUpfM0"
      },
      "outputs": [],
      "source": [
        "# Setup and plot data\n",
        "# Set style and context\n",
        "sns.set_style(\"whitegrid\")\n",
        "sns.set_context('talk')\n",
        "\n",
        "# Subset of the data (faster display, but entire dataset can be used)\n",
        "data_sample = single_data.sample(1000)\n",
        "\n",
        "# Categorical plot\n",
        "sns.catplot(data = data_sample, x = 'exposure', y = 'mean_response', hue = 'exposure', palette = 'mako');"
      ]
    },
    {
      "cell_type": "markdown",
      "metadata": {
        "id": "T-y1CRtJs3lf"
      },
      "source": [
        "## Extra Practice\n",
        "\n",
        "1) Can you figure out how to make a [histogram](https://seaborn.pydata.org/tutorial/distributions.html) of pupil area in **Seaborn**? Use the subset of data below. <br>\n",
        "2) Create a second plot, but split the histogram by `exposure` to plot? <br>"
      ]
    },
    {
      "cell_type": "code",
      "execution_count": null,
      "metadata": {
        "id": "6ssv01YttCD2"
      },
      "outputs": [],
      "source": [
        "# Subset of data to use for this exercise\n",
        "data_sample = single_data.sample(1000)"
      ]
    },
    {
      "cell_type": "code",
      "execution_count": null,
      "metadata": {
        "id": "5DWjvWcitF4A"
      },
      "outputs": [],
      "source": [
        "# Setup and plot data\n",
        "# Set style and context\n",
        "sns.set_style(\"dark\")\n",
        "sns.set_context('paper')\n",
        "\n",
        "\n",
        "# Categorical plot\n",
        "sns.histplot(data = data_sample,\n",
        "             x = ...);"
      ]
    },
    {
      "cell_type": "code",
      "execution_count": null,
      "metadata": {
        "collapsed": true,
        "id": "VOTzlB9Rtfw2"
      },
      "outputs": [],
      "source": [
        "# Setup and plot data\n",
        "# Set style and context\n",
        "sns.set_style(\"dark\")\n",
        "sns.set_context('notebook')\n",
        "\n",
        "\n",
        "# Categorical plot\n",
        "sns.histplot(data = data_sample,\n",
        "             x = ...,\n",
        "             hue = ...,\n",
        "             palette = 'mako');"
      ]
    },
    {
      "cell_type": "markdown",
      "source": [
        "# 🌟 Just for fun 🌀"
      ],
      "metadata": {
        "id": "idPo85wzDiAw"
      }
    },
    {
      "cell_type": "code",
      "source": [
        "# Run this for a fun message + image\n",
        "from IPython.display import HTML\n",
        "print('Great work today!')\n",
        "HTML('<img src=\"https://media.giphy.com/media/jkvmzOg3LtpF6/giphy.gif\">')"
      ],
      "metadata": {
        "id": "guvG05FMDjex"
      },
      "execution_count": null,
      "outputs": []
    },
    {
      "cell_type": "markdown",
      "metadata": {
        "id": "4pNHrdvM8rcV"
      },
      "source": [
        "_____"
      ]
    },
    {
      "cell_type": "markdown",
      "metadata": {
        "id": "KJkkhqYy8rcV"
      },
      "source": [
        "## Saving 💾\n",
        "Remember to save your notebook before closing.\n",
        "Choose **Save** (and make sure you've already saved a copy in your drive) from the **File** menu."
      ]
    },
    {
      "cell_type": "markdown",
      "metadata": {
        "id": "KK0ZKjy9OVEg"
      },
      "source": [
        "-----------\n",
        "\n",
        "# Technical notes & credits  🔩👏 🧑\n",
        "\n",
        "\n",
        "Much more information can be found in the [Allen Brain Institute whitepaper](https://brainmapportal-live-4cc80a57cd6e400d854-f7fdcae.divio-media.net/filer_public/4e/be/4ebe2911-bd38-4230-86c8-01a86cfd758e/visual_behavior_2p_technical_whitepaper.pdf) as well as in their <a href=\"http://allensdk.readthedocs.io/en/latest/visual_behavior_optical_physiology.html\"> documentation</a>.\n",
        "\n",
        "This notebook was developed from the [Allen Institute Notebooks](https://allensdk.readthedocs.io/en/latest/visual_behavior_optical_physiology.html), [Neuromatch Academy](https://compneuro.neuromatch.io/projects/neurons/README.html#allen-institute), and the [Columbia-Neuropythonistas repository](https://github.com/Columbia-Neuropythonistas)."
      ]
    },
    {
      "cell_type": "code",
      "source": [],
      "metadata": {
        "id": "TAMQMPrODo-u"
      },
      "execution_count": null,
      "outputs": []
    }
  ],
  "metadata": {
    "colab": {
      "provenance": [],
      "toc_visible": true,
      "collapsed_sections": [
        "KBNM7oCnrW9F",
        "DMXpenTVPOGt",
        "cCVrrPwgpg6t",
        "CDNecRknpZkr",
        "M1gBxylXn1Wl",
        "EGRcdh4boIzq",
        "kFIlYziuohFg",
        "ekOgQcCvo5fZ",
        "Rh01ZEbyp2fb",
        "91R7civspXlF",
        "T-y1CRtJs3lf"
      ],
      "generative_ai_disabled": true
    },
    "kernel": {
      "display_name": "Python 3",
      "language": "python",
      "name": "python3"
    },
    "kernelspec": {
      "display_name": "Python 3",
      "name": "python3"
    },
    "language_info": {
      "name": "python"
    }
  },
  "nbformat": 4,
  "nbformat_minor": 0
}